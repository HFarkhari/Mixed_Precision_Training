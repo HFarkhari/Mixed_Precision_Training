{
 "cells": [
  {
   "cell_type": "markdown",
   "id": "048de071-6663-43f1-b8b9-0d48c5341ce6",
   "metadata": {},
   "source": [
    "### Transfer learning, Prepare init model"
   ]
  },
  {
   "cell_type": "code",
   "execution_count": 1,
   "id": "b5ac5ea7-da49-403d-834a-b0c2dfffdd95",
   "metadata": {},
   "outputs": [],
   "source": [
    "from transformers import BertTokenizer, BertForPreTraining"
   ]
  },
  {
   "cell_type": "code",
   "execution_count": 2,
   "id": "2eb7bccd-5c74-4a25-b483-f1618c856788",
   "metadata": {},
   "outputs": [],
   "source": [
    "# Transfer learning\n",
    "model_en = BertForPreTraining.from_pretrained('bert-base-uncased')\n",
    "model_ch = BertForPreTraining.from_pretrained('bert-base-chinese')"
   ]
  },
  {
   "cell_type": "code",
   "execution_count": 3,
   "id": "f1220706-97aa-4cec-a606-8ec5ddb7d2ee",
   "metadata": {},
   "outputs": [],
   "source": [
    "tokenizer = BertTokenizer.from_pretrained('bert-base-uncased')"
   ]
  },
  {
   "cell_type": "code",
   "execution_count": 4,
   "id": "cacb34a8-c67c-4214-9673-920b63db9b82",
   "metadata": {},
   "outputs": [],
   "source": [
    "model_en.save_pretrained('bert-base-uncased_local')\n",
    "model_ch.save_pretrained('bert-base-chinese_local')"
   ]
  },
  {
   "cell_type": "code",
   "execution_count": 5,
   "id": "94cc6268-8c24-4380-8e28-a12bcb2d9e90",
   "metadata": {},
   "outputs": [],
   "source": [
    "# Transfer weights from Chinese to EN\n",
    "for param_en, param_ch in zip(model_en.parameters(), model_ch.parameters()):\n",
    "    if param_en.shape==param_ch.shape:\n",
    "        param_en.data = param_ch.data\n",
    "\n",
    "model_en.save_pretrained('bert-base-init_local')"
   ]
  },
  {
   "cell_type": "code",
   "execution_count": 6,
   "id": "f12b2667-431c-465a-b278-91117ef7fb86",
   "metadata": {},
   "outputs": [
    {
     "data": {
      "text/plain": [
       "('bert-base-uncased_local/tokenizer_config.json',\n",
       " 'bert-base-uncased_local/special_tokens_map.json',\n",
       " 'bert-base-uncased_local/vocab.txt',\n",
       " 'bert-base-uncased_local/added_tokens.json')"
      ]
     },
     "execution_count": 6,
     "metadata": {},
     "output_type": "execute_result"
    }
   ],
   "source": [
    "tokenizer.save_pretrained('bert-base-uncased_local')"
   ]
  }
 ],
 "metadata": {
  "kernelspec": {
   "display_name": "Python 3 (ipykernel)",
   "language": "python",
   "name": "python3"
  },
  "language_info": {
   "codemirror_mode": {
    "name": "ipython",
    "version": 3
   },
   "file_extension": ".py",
   "mimetype": "text/x-python",
   "name": "python",
   "nbconvert_exporter": "python",
   "pygments_lexer": "ipython3",
   "version": "3.10.6"
  }
 },
 "nbformat": 4,
 "nbformat_minor": 5
}
